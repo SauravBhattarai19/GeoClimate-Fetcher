{
 "cells": [
  {
   "cell_type": "code",
   "execution_count": 1,
   "metadata": {},
   "outputs": [
    {
     "name": "stdout",
     "output_type": "stream",
     "text": [
      "Found .tif files:\n",
      "- data\\downloads\\FIRMS_Fire_Detection_20250702_154824_geotiffs\\20250619.tif\n",
      "- data\\downloads\\FIRMS_Fire_Detection_20250702_154824_geotiffs\\20250620.tif\n",
      "- data\\downloads\\FIRMS_Fire_Detection_20250702_154824_geotiffs\\20250621.tif\n",
      "- data\\downloads\\FIRMS_Fire_Detection_20250702_154824_geotiffs\\20250622.tif\n",
      "- data\\downloads\\FIRMS_Fire_Detection_20250702_154824_geotiffs\\20250623.tif\n",
      "- data\\downloads\\FIRMS_Fire_Detection_20250702_154824_geotiffs\\20250624.tif\n",
      "- data\\downloads\\FIRMS_Fire_Detection_20250702_154824_geotiffs\\20250625.tif\n",
      "- data\\downloads\\FIRMS_Fire_Detection_20250702_154824_geotiffs\\20250626.tif\n",
      "- data\\downloads\\FIRMS_Fire_Detection_20250702_154824_geotiffs\\20250627.tif\n",
      "- data\\downloads\\FIRMS_Fire_Detection_20250702_154824_geotiffs\\20250628.tif\n",
      "- data\\downloads\\FIRMS_Fire_Detection_20250702_154824_geotiffs\\20250629.tif\n"
     ]
    }
   ],
   "source": [
    "import os\n",
    "from pathlib import Path\n",
    "\n",
    "# Get the path to FIRMS downloads folder\n",
    "firms_path = Path('data/downloads/FIRMS_Fire_Detection_20250702_154824_geotiffs/')\n",
    "\n",
    "# List all .tif files in the directory\n",
    "tif_files = []\n",
    "for file in firms_path.glob('*.tif'):\n",
    "    tif_files.append(str(file))\n",
    "\n",
    "# Print the found .tif files\n",
    "print(\"Found .tif files:\")\n",
    "for tif_file in tif_files:\n",
    "    print(f\"- {tif_file}\")\n"
   ]
  },
  {
   "cell_type": "code",
   "execution_count": 3,
   "metadata": {},
   "outputs": [
    {
     "ename": "AttributeError",
     "evalue": "The geopandas.dataset has been deprecated and was removed in GeoPandas 1.0. You can get the original 'naturalearth_lowres' data from https://www.naturalearthdata.com/downloads/110m-cultural-vectors/.",
     "output_type": "error",
     "traceback": [
      "\u001b[1;31m---------------------------------------------------------------------------\u001b[0m",
      "\u001b[1;31mAttributeError\u001b[0m                            Traceback (most recent call last)",
      "Cell \u001b[1;32mIn[3], line 9\u001b[0m\n\u001b[0;32m      6\u001b[0m \u001b[38;5;28;01mimport\u001b[39;00m\u001b[38;5;250m \u001b[39m\u001b[38;5;21;01mcartopy\u001b[39;00m\u001b[38;5;21;01m.\u001b[39;00m\u001b[38;5;21;01mfeature\u001b[39;00m\u001b[38;5;250m \u001b[39m\u001b[38;5;28;01mas\u001b[39;00m\u001b[38;5;250m \u001b[39m\u001b[38;5;21;01mcfeature\u001b[39;00m\n\u001b[0;32m      8\u001b[0m \u001b[38;5;66;03m# Load US states shapefile for CONUS background\u001b[39;00m\n\u001b[1;32m----> 9\u001b[0m usa \u001b[38;5;241m=\u001b[39m gpd\u001b[38;5;241m.\u001b[39mread_file(\u001b[43mgpd\u001b[49m\u001b[38;5;241;43m.\u001b[39;49m\u001b[43mdatasets\u001b[49m\u001b[38;5;241;43m.\u001b[39;49m\u001b[43mget_path\u001b[49m\u001b[43m(\u001b[49m\u001b[38;5;124;43m'\u001b[39;49m\u001b[38;5;124;43mnaturalearth_lowres\u001b[39;49m\u001b[38;5;124;43m'\u001b[39;49m\u001b[43m)\u001b[49m)\n\u001b[0;32m     10\u001b[0m conus \u001b[38;5;241m=\u001b[39m usa[usa[\u001b[38;5;124m'\u001b[39m\u001b[38;5;124mcontinent\u001b[39m\u001b[38;5;124m'\u001b[39m] \u001b[38;5;241m==\u001b[39m \u001b[38;5;124m'\u001b[39m\u001b[38;5;124mNorth America\u001b[39m\u001b[38;5;124m'\u001b[39m]\u001b[38;5;241m.\u001b[39mclip(box\u001b[38;5;241m=\u001b[39m(\u001b[38;5;241m-\u001b[39m\u001b[38;5;241m125\u001b[39m, \u001b[38;5;241m24\u001b[39m, \u001b[38;5;241m-\u001b[39m\u001b[38;5;241m66.5\u001b[39m, \u001b[38;5;241m49\u001b[39m))\n\u001b[0;32m     12\u001b[0m \u001b[38;5;66;03m# Create a figure with a specific map projection\u001b[39;00m\n",
      "File \u001b[1;32mc:\\Users\\J01013381\\AppData\\Local\\anaconda3\\envs\\orise_compare\\lib\\site-packages\\geopandas\\datasets\\__init__.py:18\u001b[0m, in \u001b[0;36mget_path\u001b[1;34m(dataset)\u001b[0m\n\u001b[0;32m     12\u001b[0m error_msg \u001b[38;5;241m=\u001b[39m (\n\u001b[0;32m     13\u001b[0m     \u001b[38;5;124m\"\u001b[39m\u001b[38;5;124mThe geopandas.dataset has been deprecated and was removed in GeoPandas \u001b[39m\u001b[38;5;124m\"\u001b[39m\n\u001b[0;32m     14\u001b[0m     \u001b[38;5;124mf\u001b[39m\u001b[38;5;124m\"\u001b[39m\u001b[38;5;124m1.0. You can get the original \u001b[39m\u001b[38;5;124m'\u001b[39m\u001b[38;5;132;01m{\u001b[39;00mdataset\u001b[38;5;132;01m}\u001b[39;00m\u001b[38;5;124m'\u001b[39m\u001b[38;5;124m data from \u001b[39m\u001b[38;5;124m\"\u001b[39m\n\u001b[0;32m     15\u001b[0m     \u001b[38;5;124mf\u001b[39m\u001b[38;5;124m\"\u001b[39m\u001b[38;5;132;01m{\u001b[39;00mne_message\u001b[38;5;250m \u001b[39m\u001b[38;5;28;01mif\u001b[39;00m\u001b[38;5;250m \u001b[39m\u001b[38;5;124m'\u001b[39m\u001b[38;5;124mnatural\u001b[39m\u001b[38;5;124m'\u001b[39m\u001b[38;5;250m \u001b[39m\u001b[38;5;129;01min\u001b[39;00m\u001b[38;5;250m \u001b[39mdataset\u001b[38;5;250m \u001b[39m\u001b[38;5;28;01melse\u001b[39;00m\u001b[38;5;250m \u001b[39mnybb_message\u001b[38;5;132;01m}\u001b[39;00m\u001b[38;5;124m\"\u001b[39m\n\u001b[0;32m     16\u001b[0m )\n\u001b[0;32m     17\u001b[0m \u001b[38;5;28;01mif\u001b[39;00m dataset \u001b[38;5;129;01min\u001b[39;00m _prev_available:\n\u001b[1;32m---> 18\u001b[0m     \u001b[38;5;28;01mraise\u001b[39;00m \u001b[38;5;167;01mAttributeError\u001b[39;00m(error_msg)\n\u001b[0;32m     19\u001b[0m \u001b[38;5;28;01melse\u001b[39;00m:\n\u001b[0;32m     20\u001b[0m     error_msg \u001b[38;5;241m=\u001b[39m (\n\u001b[0;32m     21\u001b[0m         \u001b[38;5;124m\"\u001b[39m\u001b[38;5;124mThe geopandas.dataset has been deprecated and \u001b[39m\u001b[38;5;124m\"\u001b[39m\n\u001b[0;32m     22\u001b[0m         \u001b[38;5;124m\"\u001b[39m\u001b[38;5;124mwas removed in GeoPandas 1.0. New sample datasets are now available \u001b[39m\u001b[38;5;124m\"\u001b[39m\n\u001b[0;32m     23\u001b[0m         \u001b[38;5;124m\"\u001b[39m\u001b[38;5;124min the geodatasets package (https://geodatasets.readthedocs.io/en/latest/)\u001b[39m\u001b[38;5;124m\"\u001b[39m\n\u001b[0;32m     24\u001b[0m     )\n",
      "\u001b[1;31mAttributeError\u001b[0m: The geopandas.dataset has been deprecated and was removed in GeoPandas 1.0. You can get the original 'naturalearth_lowres' data from https://www.naturalearthdata.com/downloads/110m-cultural-vectors/."
     ]
    }
   ],
   "source": [
    "import matplotlib.pyplot as plt\n",
    "import rasterio\n",
    "import geopandas as gpd\n",
    "from rasterio.plot import show\n",
    "import cartopy.crs as ccrs\n",
    "import cartopy.feature as cfeature\n",
    "\n",
    "# Load US states shapefile for CONUS background\n",
    "usa = gpd.read_file(gpd.datasets.get_path('naturalearth_lowres'))\n",
    "conus = usa[usa['continent'] == 'North America'].clip(box=(-125, 24, -66.5, 49))\n",
    "\n",
    "# Create a figure with a specific map projection\n",
    "fig, ax = plt.subplots(figsize=(15, 10), \n",
    "                       subplot_kw={'projection': ccrs.AlbersEqualArea(\n",
    "                           central_longitude=-96, central_latitude=37.5)})\n",
    "\n",
    "# Add CONUS background\n",
    "ax.add_feature(cfeature.STATES, edgecolor='black', facecolor='none')\n",
    "ax.add_feature(cfeature.COASTLINE)\n",
    "\n",
    "# Plot each FIRMS fire detection TIF file\n",
    "for tif_file in tif_files:\n",
    "    with rasterio.open(tif_file) as src:\n",
    "        show(src, ax=ax, transform=ccrs.PlateCarree())\n",
    "\n",
    "# Set map extent to CONUS\n",
    "ax.set_extent([-125, -66.5, 24, 49], crs=ccrs.PlateCarree())\n",
    "\n",
    "# Add title and customize appearance\n",
    "plt.title('FIRMS Fire Detections over CONUS', pad=20, fontsize=14)\n",
    "plt.tight_layout()\n",
    "# Save the plot\n",
    "plt.savefig('firms_fire_detections.png')\n",
    "plt.close()\n"
   ]
  },
  {
   "cell_type": "code",
   "execution_count": null,
   "metadata": {},
   "outputs": [],
   "source": []
  }
 ],
 "metadata": {
  "kernelspec": {
   "display_name": "orise_compare",
   "language": "python",
   "name": "python3"
  },
  "language_info": {
   "codemirror_mode": {
    "name": "ipython",
    "version": 3
   },
   "file_extension": ".py",
   "mimetype": "text/x-python",
   "name": "python",
   "nbconvert_exporter": "python",
   "pygments_lexer": "ipython3",
   "version": "3.10.18"
  }
 },
 "nbformat": 4,
 "nbformat_minor": 2
}
